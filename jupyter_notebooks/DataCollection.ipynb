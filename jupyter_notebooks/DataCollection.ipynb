{
  "cells": [
    {
      "cell_type": "markdown",
      "metadata": {
        "id": "0aStgWSO0E0E"
      },
      "source": [
        "# **Data Collection - Fetch Dataset from Kaggle**"
      ]
    },
    {
      "cell_type": "markdown",
      "metadata": {
        "id": "1eLEkw5O0ECa"
      },
      "source": [
        "## Objectives\n",
        "* Fetch data from Kaggle and save as raw data to prepare it for further processes.\n",
        "\n",
        "## Inputs\n",
        "* Kaggle JSON file - the authentication token \n",
        "\n",
        "## Outputs\n",
        "* Generate Dataset: inputs/mildew_dataset/cherry-leaves \n",
        "\n",
        "## Additional Comments\n",
        "* The client provided the data under an NDA (non-disclosure agreement), therefore the data should only be shared with professionals that are officially involved in the project."
      ]
    },
    {
      "cell_type": "markdown",
      "metadata": {
        "id": "9uWZXH9LwoQg"
      },
      "source": [
        "## Import pagkages"
      ]
    },
    {
      "cell_type": "code",
      "execution_count": 1,
      "metadata": {
        "tags": [
          "outputPrepend"
        ]
      },
      "outputs": [
        {
          "output_type": "stream",
          "name": "stdout",
          "text": "e 7)) (5.3.1)\nRequirement already satisfied: click<8.0,>=7.0 in /home/codeany/.pyenv/versions/3.8.12/lib/python3.8/site-packages (from streamlit==0.85.0->-r /workspaces/Project-5-Mildew-detection-leaves-images-identification/requirements.txt (line 7)) (7.1.2)\nRequirement already satisfied: packaging in /home/codeany/.pyenv/versions/3.8.12/lib/python3.8/site-packages (from streamlit==0.85.0->-r /workspaces/Project-5-Mildew-detection-leaves-images-identification/requirements.txt (line 7)) (23.1)\nRequirement already satisfied: pyarrow in /home/codeany/.pyenv/versions/3.8.12/lib/python3.8/site-packages (from streamlit==0.85.0->-r /workspaces/Project-5-Mildew-detection-leaves-images-identification/requirements.txt (line 7)) (12.0.1)\nRequirement already satisfied: pydeck>=0.1.dev5 in /home/codeany/.pyenv/versions/3.8.12/lib/python3.8/site-packages (from streamlit==0.85.0->-r /workspaces/Project-5-Mildew-detection-leaves-images-identification/requirements.txt (line 7)) (0.8.1b0)\nRequirement already satisfied: requests in /home/codeany/.pyenv/versions/3.8.12/lib/python3.8/site-packages (from streamlit==0.85.0->-r /workspaces/Project-5-Mildew-detection-leaves-images-identification/requirements.txt (line 7)) (2.31.0)\nRequirement already satisfied: toml in /home/codeany/.pyenv/versions/3.8.12/lib/python3.8/site-packages (from streamlit==0.85.0->-r /workspaces/Project-5-Mildew-detection-leaves-images-identification/requirements.txt (line 7)) (0.10.2)\nRequirement already satisfied: tornado>=5.0 in /home/codeany/.pyenv/versions/3.8.12/lib/python3.8/site-packages (from streamlit==0.85.0->-r /workspaces/Project-5-Mildew-detection-leaves-images-identification/requirements.txt (line 7)) (6.3.2)\nRequirement already satisfied: tzlocal in /home/codeany/.pyenv/versions/3.8.12/lib/python3.8/site-packages (from streamlit==0.85.0->-r /workspaces/Project-5-Mildew-detection-leaves-images-identification/requirements.txt (line 7)) (5.0.1)\nRequirement already satisfied: validators in /home/codeany/.pyenv/versions/3.8.12/lib/python3.8/site-packages (from streamlit==0.85.0->-r /workspaces/Project-5-Mildew-detection-leaves-images-identification/requirements.txt (line 7)) (0.20.0)\nRequirement already satisfied: gitpython in /home/codeany/.pyenv/versions/3.8.12/lib/python3.8/site-packages (from streamlit==0.85.0->-r /workspaces/Project-5-Mildew-detection-leaves-images-identification/requirements.txt (line 7)) (3.1.32)\nRequirement already satisfied: watchdog in /home/codeany/.pyenv/versions/3.8.12/lib/python3.8/site-packages (from streamlit==0.85.0->-r /workspaces/Project-5-Mildew-detection-leaves-images-identification/requirements.txt (line 7)) (3.0.0)\nRequirement already satisfied: joblib>=0.11 in /home/codeany/.pyenv/versions/3.8.12/lib/python3.8/site-packages (from scikit-learn==0.24.2->-r /workspaces/Project-5-Mildew-detection-leaves-images-identification/requirements.txt (line 9)) (1.3.1)\nRequirement already satisfied: threadpoolctl>=2.0.0 in /home/codeany/.pyenv/versions/3.8.12/lib/python3.8/site-packages (from scikit-learn==0.24.2->-r /workspaces/Project-5-Mildew-detection-leaves-images-identification/requirements.txt (line 9)) (3.1.0)\nRequirement already satisfied: absl-py~=0.10 in /home/codeany/.pyenv/versions/3.8.12/lib/python3.8/site-packages (from tensorflow-cpu==2.6.0->-r /workspaces/Project-5-Mildew-detection-leaves-images-identification/requirements.txt (line 10)) (0.15.0)\nRequirement already satisfied: astunparse~=1.6.3 in /home/codeany/.pyenv/versions/3.8.12/lib/python3.8/site-packages (from tensorflow-cpu==2.6.0->-r /workspaces/Project-5-Mildew-detection-leaves-images-identification/requirements.txt (line 10)) (1.6.3)\nRequirement already satisfied: clang~=5.0 in /home/codeany/.pyenv/versions/3.8.12/lib/python3.8/site-packages (from tensorflow-cpu==2.6.0->-r /workspaces/Project-5-Mildew-detection-leaves-images-identification/requirements.txt (line 10)) (5.0)\nRequirement already satisfied: flatbuffers~=1.12.0 in /home/codeany/.pyenv/versions/3.8.12/lib/python3.8/site-packages (from tensorflow-cpu==2.6.0->-r /workspaces/Project-5-Mildew-detection-leaves-images-identification/requirements.txt (line 10)) (1.12)\nRequirement already satisfied: google-pasta~=0.2 in /home/codeany/.pyenv/versions/3.8.12/lib/python3.8/site-packages (from tensorflow-cpu==2.6.0->-r /workspaces/Project-5-Mildew-detection-leaves-images-identification/requirements.txt (line 10)) (0.2.0)\nRequirement already satisfied: h5py~=3.1.0 in /home/codeany/.pyenv/versions/3.8.12/lib/python3.8/site-packages (from tensorflow-cpu==2.6.0->-r /workspaces/Project-5-Mildew-detection-leaves-images-identification/requirements.txt (line 10)) (3.1.0)\nRequirement already satisfied: keras-preprocessing~=1.1.2 in /home/codeany/.pyenv/versions/3.8.12/lib/python3.8/site-packages (from tensorflow-cpu==2.6.0->-r /workspaces/Project-5-Mildew-detection-leaves-images-identification/requirements.txt (line 10)) (1.1.2)\nRequirement already satisfied: opt-einsum~=3.3.0 in /home/codeany/.pyenv/versions/3.8.12/lib/python3.8/site-packages (from tensorflow-cpu==2.6.0->-r /workspaces/Project-5-Mildew-detection-leaves-images-identification/requirements.txt (line 10)) (3.3.0)\nRequirement already satisfied: termcolor~=1.1.0 in /home/codeany/.pyenv/versions/3.8.12/lib/python3.8/site-packages (from tensorflow-cpu==2.6.0->-r /workspaces/Project-5-Mildew-detection-leaves-images-identification/requirements.txt (line 10)) (1.1.0)\nRequirement already satisfied: typing-extensions~=3.7.4 in /home/codeany/.pyenv/versions/3.8.12/lib/python3.8/site-packages (from tensorflow-cpu==2.6.0->-r /workspaces/Project-5-Mildew-detection-leaves-images-identification/requirements.txt (line 10)) (3.7.4.3)\nRequirement already satisfied: wheel~=0.35 in /home/codeany/.pyenv/versions/3.8.12/lib/python3.8/site-packages (from tensorflow-cpu==2.6.0->-r /workspaces/Project-5-Mildew-detection-leaves-images-identification/requirements.txt (line 10)) (0.40.0)\nRequirement already satisfied: wrapt~=1.12.1 in /home/codeany/.pyenv/versions/3.8.12/lib/python3.8/site-packages (from tensorflow-cpu==2.6.0->-r /workspaces/Project-5-Mildew-detection-leaves-images-identification/requirements.txt (line 10)) (1.12.1)\nRequirement already satisfied: gast==0.4.0 in /home/codeany/.pyenv/versions/3.8.12/lib/python3.8/site-packages (from tensorflow-cpu==2.6.0->-r /workspaces/Project-5-Mildew-detection-leaves-images-identification/requirements.txt (line 10)) (0.4.0)\nRequirement already satisfied: tensorboard~=2.6 in /home/codeany/.pyenv/versions/3.8.12/lib/python3.8/site-packages (from tensorflow-cpu==2.6.0->-r /workspaces/Project-5-Mildew-detection-leaves-images-identification/requirements.txt (line 10)) (2.13.0)\nRequirement already satisfied: tensorflow-estimator~=2.6 in /home/codeany/.pyenv/versions/3.8.12/lib/python3.8/site-packages (from tensorflow-cpu==2.6.0->-r /workspaces/Project-5-Mildew-detection-leaves-images-identification/requirements.txt (line 10)) (2.13.0)\nRequirement already satisfied: grpcio<2.0,>=1.37.0 in /home/codeany/.pyenv/versions/3.8.12/lib/python3.8/site-packages (from tensorflow-cpu==2.6.0->-r /workspaces/Project-5-Mildew-detection-leaves-images-identification/requirements.txt (line 10)) (1.56.0)\nRequirement already satisfied: ipython in /home/codeany/.pyenv/versions/3.8.12/lib/python3.8/site-packages (from keras-tuner==1.1.3->-r /workspaces/Project-5-Mildew-detection-leaves-images-identification/requirements.txt (line 12)) (8.12.2)\nRequirement already satisfied: kt-legacy in /home/codeany/.pyenv/versions/3.8.12/lib/python3.8/site-packages (from keras-tuner==1.1.3->-r /workspaces/Project-5-Mildew-detection-leaves-images-identification/requirements.txt (line 12)) (1.0.5)\nRequirement already satisfied: entrypoints in /home/codeany/.pyenv/versions/3.8.12/lib/python3.8/site-packages (from altair>=3.2.0->streamlit==0.85.0->-r /workspaces/Project-5-Mildew-detection-leaves-images-identification/requirements.txt (line 7)) (0.4)\nRequirement already satisfied: jinja2 in /home/codeany/.pyenv/versions/3.8.12/lib/python3.8/site-packages (from altair>=3.2.0->streamlit==0.85.0->-r /workspaces/Project-5-Mildew-detection-leaves-images-identification/requirements.txt (line 7)) (3.1.2)\nRequirement already satisfied: jsonschema>=3.0 in /home/codeany/.pyenv/versions/3.8.12/lib/python3.8/site-packages (from altair>=3.2.0->streamlit==0.85.0->-r /workspaces/Project-5-Mildew-detection-leaves-images-identification/requirements.txt (line 7)) (4.18.2)\nRequirement already satisfied: toolz in /home/codeany/.pyenv/versions/3.8.12/lib/python3.8/site-packages (from altair>=3.2.0->streamlit==0.85.0->-r /workspaces/Project-5-Mildew-detection-leaves-images-identification/requirements.txt (line 7)) (0.12.0)\nRequirement already satisfied: google-auth<3,>=1.6.3 in /home/codeany/.pyenv/versions/3.8.12/lib/python3.8/site-packages (from tensorboard~=2.6->tensorflow-cpu==2.6.0->-r /workspaces/Project-5-Mildew-detection-leaves-images-identification/requirements.txt (line 10)) (2.22.0)\nRequirement already satisfied: google-auth-oauthlib<1.1,>=0.5 in /home/codeany/.pyenv/versions/3.8.12/lib/python3.8/site-packages (from tensorboard~=2.6->tensorflow-cpu==2.6.0->-r /workspaces/Project-5-Mildew-detection-leaves-images-identification/requirements.txt (line 10)) (1.0.0)\nRequirement already satisfied: markdown>=2.6.8 in /home/codeany/.pyenv/versions/3.8.12/lib/python3.8/site-packages (from tensorboard~=2.6->tensorflow-cpu==2.6.0->-r /workspaces/Project-5-Mildew-detection-leaves-images-identification/requirements.txt (line 10)) (3.4.3)\nRequirement already satisfied: setuptools>=41.0.0 in /home/codeany/.pyenv/versions/3.8.12/lib/python3.8/site-packages (from tensorboard~=2.6->tensorflow-cpu==2.6.0->-r /workspaces/Project-5-Mildew-detection-leaves-images-identification/requirements.txt (line 10)) (68.0.0)\nRequirement already satisfied: tensorboard-data-server<0.8.0,>=0.7.0 in /home/codeany/.pyenv/versions/3.8.12/lib/python3.8/site-packages (from tensorboard~=2.6->tensorflow-cpu==2.6.0->-r /workspaces/Project-5-Mildew-detection-leaves-images-identification/requirements.txt (line 10)) (0.7.1)\nRequirement already satisfied: werkzeug>=1.0.1 in /home/codeany/.pyenv/versions/3.8.12/lib/python3.8/site-packages (from tensorboard~=2.6->tensorflow-cpu==2.6.0->-r /workspaces/Project-5-Mildew-detection-leaves-images-identification/requirements.txt (line 10)) (2.3.6)\nRequirement already satisfied: charset-normalizer<4,>=2 in /home/codeany/.pyenv/versions/3.8.12/lib/python3.8/site-packages (from requests->streamlit==0.85.0->-r /workspaces/Project-5-Mildew-detection-leaves-images-identification/requirements.txt (line 7)) (3.2.0)\nRequirement already satisfied: idna<4,>=2.5 in /home/codeany/.pyenv/versions/3.8.12/lib/python3.8/site-packages (from requests->streamlit==0.85.0->-r /workspaces/Project-5-Mildew-detection-leaves-images-identification/requirements.txt (line 7)) (3.4)\nRequirement already satisfied: urllib3<3,>=1.21.1 in /home/codeany/.pyenv/versions/3.8.12/lib/python3.8/site-packages (from requests->streamlit==0.85.0->-r /workspaces/Project-5-Mildew-detection-leaves-images-identification/requirements.txt (line 7)) (1.26.16)\nRequirement already satisfied: gitdb<5,>=4.0.1 in /home/codeany/.pyenv/versions/3.8.12/lib/python3.8/site-packages (from gitpython->streamlit==0.85.0->-r /workspaces/Project-5-Mildew-detection-leaves-images-identification/requirements.txt (line 7)) (4.0.10)\nRequirement already satisfied: backcall in /home/codeany/.pyenv/versions/3.8.12/lib/python3.8/site-packages (from ipython->keras-tuner==1.1.3->-r /workspaces/Project-5-Mildew-detection-leaves-images-identification/requirements.txt (line 12)) (0.2.0)\nRequirement already satisfied: decorator in /home/codeany/.pyenv/versions/3.8.12/lib/python3.8/site-packages (from ipython->keras-tuner==1.1.3->-r /workspaces/Project-5-Mildew-detection-leaves-images-identification/requirements.txt (line 12)) (5.1.1)\nRequirement already satisfied: jedi>=0.16 in /home/codeany/.pyenv/versions/3.8.12/lib/python3.8/site-packages (from ipython->keras-tuner==1.1.3->-r /workspaces/Project-5-Mildew-detection-leaves-images-identification/requirements.txt (line 12)) (0.18.2)\nRequirement already satisfied: matplotlib-inline in /home/codeany/.pyenv/versions/3.8.12/lib/python3.8/site-packages (from ipython->keras-tuner==1.1.3->-r /workspaces/Project-5-Mildew-detection-leaves-images-identification/requirements.txt (line 12)) (0.1.6)\nRequirement already satisfied: pickleshare in /home/codeany/.pyenv/versions/3.8.12/lib/python3.8/site-packages (from ipython->keras-tuner==1.1.3->-r /workspaces/Project-5-Mildew-detection-leaves-images-identification/requirements.txt (line 12)) (0.7.5)\nRequirement already satisfied: prompt-toolkit!=3.0.37,<3.1.0,>=3.0.30 in /home/codeany/.pyenv/versions/3.8.12/lib/python3.8/site-packages (from ipython->keras-tuner==1.1.3->-r /workspaces/Project-5-Mildew-detection-leaves-images-identification/requirements.txt (line 12)) (3.0.39)\nRequirement already satisfied: pygments>=2.4.0 in /home/codeany/.pyenv/versions/3.8.12/lib/python3.8/site-packages (from ipython->keras-tuner==1.1.3->-r /workspaces/Project-5-Mildew-detection-leaves-images-identification/requirements.txt (line 12)) (2.15.1)\nRequirement already satisfied: stack-data in /home/codeany/.pyenv/versions/3.8.12/lib/python3.8/site-packages (from ipython->keras-tuner==1.1.3->-r /workspaces/Project-5-Mildew-detection-leaves-images-identification/requirements.txt (line 12)) (0.6.2)\nRequirement already satisfied: traitlets>=5 in /home/codeany/.pyenv/versions/3.8.12/lib/python3.8/site-packages (from ipython->keras-tuner==1.1.3->-r /workspaces/Project-5-Mildew-detection-leaves-images-identification/requirements.txt (line 12)) (5.9.0)\nRequirement already satisfied: pexpect>4.3 in /home/codeany/.pyenv/versions/3.8.12/lib/python3.8/site-packages (from ipython->keras-tuner==1.1.3->-r /workspaces/Project-5-Mildew-detection-leaves-images-identification/requirements.txt (line 12)) (4.8.0)\nRequirement already satisfied: backports.zoneinfo in /home/codeany/.pyenv/versions/3.8.12/lib/python3.8/site-packages (from tzlocal->streamlit==0.85.0->-r /workspaces/Project-5-Mildew-detection-leaves-images-identification/requirements.txt (line 7)) (0.2.1)\nRequirement already satisfied: smmap<6,>=3.0.1 in /home/codeany/.pyenv/versions/3.8.12/lib/python3.8/site-packages (from gitdb<5,>=4.0.1->gitpython->streamlit==0.85.0->-r /workspaces/Project-5-Mildew-detection-leaves-images-identification/requirements.txt (line 7)) (5.0.0)\nRequirement already satisfied: pyasn1-modules>=0.2.1 in /home/codeany/.pyenv/versions/3.8.12/lib/python3.8/site-packages (from google-auth<3,>=1.6.3->tensorboard~=2.6->tensorflow-cpu==2.6.0->-r /workspaces/Project-5-Mildew-detection-leaves-images-identification/requirements.txt (line 10)) (0.3.0)\nRequirement already satisfied: rsa<5,>=3.1.4 in /home/codeany/.pyenv/versions/3.8.12/lib/python3.8/site-packages (from google-auth<3,>=1.6.3->tensorboard~=2.6->tensorflow-cpu==2.6.0->-r /workspaces/Project-5-Mildew-detection-leaves-images-identification/requirements.txt (line 10)) (4.9)\nRequirement already satisfied: requests-oauthlib>=0.7.0 in /home/codeany/.pyenv/versions/3.8.12/lib/python3.8/site-packages (from google-auth-oauthlib<1.1,>=0.5->tensorboard~=2.6->tensorflow-cpu==2.6.0->-r /workspaces/Project-5-Mildew-detection-leaves-images-identification/requirements.txt (line 10)) (1.3.1)\nRequirement already satisfied: parso<0.9.0,>=0.8.0 in /home/codeany/.pyenv/versions/3.8.12/lib/python3.8/site-packages (from jedi>=0.16->ipython->keras-tuner==1.1.3->-r /workspaces/Project-5-Mildew-detection-leaves-images-identification/requirements.txt (line 12)) (0.8.3)\nRequirement already satisfied: MarkupSafe>=2.0 in /home/codeany/.pyenv/versions/3.8.12/lib/python3.8/site-packages (from jinja2->altair>=3.2.0->streamlit==0.85.0->-r /workspaces/Project-5-Mildew-detection-leaves-images-identification/requirements.txt (line 7)) (2.1.3)\nRequirement already satisfied: importlib-resources>=1.4.0 in /home/codeany/.pyenv/versions/3.8.12/lib/python3.8/site-packages (from jsonschema>=3.0->altair>=3.2.0->streamlit==0.85.0->-r /workspaces/Project-5-Mildew-detection-leaves-images-identification/requirements.txt (line 7)) (6.0.0)\nRequirement already satisfied: jsonschema-specifications>=2023.03.6 in /home/codeany/.pyenv/versions/3.8.12/lib/python3.8/site-packages (from jsonschema>=3.0->altair>=3.2.0->streamlit==0.85.0->-r /workspaces/Project-5-Mildew-detection-leaves-images-identification/requirements.txt (line 7)) (2023.6.1)\nRequirement already satisfied: pkgutil-resolve-name>=1.3.10 in /home/codeany/.pyenv/versions/3.8.12/lib/python3.8/site-packages (from jsonschema>=3.0->altair>=3.2.0->streamlit==0.85.0->-r /workspaces/Project-5-Mildew-detection-leaves-images-identification/requirements.txt (line 7)) (1.3.10)\nRequirement already satisfied: referencing>=0.28.4 in /home/codeany/.pyenv/versions/3.8.12/lib/python3.8/site-packages (from jsonschema>=3.0->altair>=3.2.0->streamlit==0.85.0->-r /workspaces/Project-5-Mildew-detection-leaves-images-identification/requirements.txt (line 7)) (0.29.1)\nRequirement already satisfied: rpds-py>=0.7.1 in /home/codeany/.pyenv/versions/3.8.12/lib/python3.8/site-packages (from jsonschema>=3.0->altair>=3.2.0->streamlit==0.85.0->-r /workspaces/Project-5-Mildew-detection-leaves-images-identification/requirements.txt (line 7)) (0.8.10)\nRequirement already satisfied: importlib-metadata>=4.4 in /home/codeany/.pyenv/versions/3.8.12/lib/python3.8/site-packages (from markdown>=2.6.8->tensorboard~=2.6->tensorflow-cpu==2.6.0->-r /workspaces/Project-5-Mildew-detection-leaves-images-identification/requirements.txt (line 10)) (6.8.0)\nRequirement already satisfied: ptyprocess>=0.5 in /home/codeany/.pyenv/versions/3.8.12/lib/python3.8/site-packages (from pexpect>4.3->ipython->keras-tuner==1.1.3->-r /workspaces/Project-5-Mildew-detection-leaves-images-identification/requirements.txt (line 12)) (0.7.0)\nRequirement already satisfied: wcwidth in /home/codeany/.pyenv/versions/3.8.12/lib/python3.8/site-packages (from prompt-toolkit!=3.0.37,<3.1.0,>=3.0.30->ipython->keras-tuner==1.1.3->-r /workspaces/Project-5-Mildew-detection-leaves-images-identification/requirements.txt (line 12)) (0.2.6)\nRequirement already satisfied: executing>=1.2.0 in /home/codeany/.pyenv/versions/3.8.12/lib/python3.8/site-packages (from stack-data->ipython->keras-tuner==1.1.3->-r /workspaces/Project-5-Mildew-detection-leaves-images-identification/requirements.txt (line 12)) (1.2.0)\nRequirement already satisfied: asttokens>=2.1.0 in /home/codeany/.pyenv/versions/3.8.12/lib/python3.8/site-packages (from stack-data->ipython->keras-tuner==1.1.3->-r /workspaces/Project-5-Mildew-detection-leaves-images-identification/requirements.txt (line 12)) (2.2.1)\nRequirement already satisfied: pure-eval in /home/codeany/.pyenv/versions/3.8.12/lib/python3.8/site-packages (from stack-data->ipython->keras-tuner==1.1.3->-r /workspaces/Project-5-Mildew-detection-leaves-images-identification/requirements.txt (line 12)) (0.2.2)\nRequirement already satisfied: zipp>=0.5 in /home/codeany/.pyenv/versions/3.8.12/lib/python3.8/site-packages (from importlib-metadata>=4.4->markdown>=2.6.8->tensorboard~=2.6->tensorflow-cpu==2.6.0->-r /workspaces/Project-5-Mildew-detection-leaves-images-identification/requirements.txt (line 10)) (3.16.0)\nRequirement already satisfied: pyasn1<0.6.0,>=0.4.6 in /home/codeany/.pyenv/versions/3.8.12/lib/python3.8/site-packages (from pyasn1-modules>=0.2.1->google-auth<3,>=1.6.3->tensorboard~=2.6->tensorflow-cpu==2.6.0->-r /workspaces/Project-5-Mildew-detection-leaves-images-identification/requirements.txt (line 10)) (0.5.0)\nRequirement already satisfied: oauthlib>=3.0.0 in /home/codeany/.pyenv/versions/3.8.12/lib/python3.8/site-packages (from requests-oauthlib>=0.7.0->google-auth-oauthlib<1.1,>=0.5->tensorboard~=2.6->tensorflow-cpu==2.6.0->-r /workspaces/Project-5-Mildew-detection-leaves-images-identification/requirements.txt (line 10)) (3.2.2)\n"
        }
      ],
      "source": [
        "! pip install -r /workspaces/Project-5-Mildew-detection-leaves-images-identification/requirements.txt"
      ]
    },
    {
      "cell_type": "code",
      "execution_count": 2,
      "metadata": {},
      "outputs": [],
      "source": [
        "import numpy\n",
        "import os"
      ]
    },
    {
      "cell_type": "markdown",
      "metadata": {
        "id": "cqP-UeN-z3i2"
      },
      "source": [
        "## Change Working Directory\n",
        "\n",
        "* To change the working directory from its current folder to its parent folder\n",
        "* To access the current directory with os.getcwd()"
      ]
    },
    {
      "cell_type": "code",
      "execution_count": 3,
      "metadata": {
        "id": "wZfF_j-Bz3i4",
        "outputId": "66943449-1436-4c3d-85c7-b85f9f78349b"
      },
      "outputs": [
        {
          "output_type": "execute_result",
          "data": {
            "text/plain": "'/workspaces/Project-5-Mildew-detection-leaves-images-identification/jupyter_notebooks'"
          },
          "metadata": {},
          "execution_count": 3
        }
      ],
      "source": [
        "import os\n",
        "current_dir = os.getcwd()\n",
        "current_dir"
      ]
    },
    {
      "cell_type": "markdown",
      "metadata": {
        "id": "9MWW8E7lz3i7"
      },
      "source": [
        "To make the parent of the current directory the new current directory\n",
        "\n",
        "os.path.dirname() gets the parent directory\n",
        "os.chdir() defines the new current directory"
      ]
    },
    {
      "cell_type": "code",
      "execution_count": 4,
      "metadata": {
        "id": "TwHsQRWjz3i9",
        "outputId": "86849db3-cd2f-4cc5-ebb8-2d0caafa1a2c",
        "tags": []
      },
      "outputs": [
        {
          "output_type": "stream",
          "name": "stdout",
          "text": "You set a new current directory\n"
        }
      ],
      "source": [
        "os.chdir(os.path.dirname(current_dir))\n",
        "print(\"You set a new current directory\")"
      ]
    },
    {
      "cell_type": "markdown",
      "metadata": {
        "id": "M_xPk_Ijz3i-"
      },
      "source": [
        "**To confirm the new current directory**"
      ]
    },
    {
      "cell_type": "code",
      "execution_count": 5,
      "metadata": {
        "id": "vz3S-_kjz3jA",
        "outputId": "00b79ae4-75d0-4a96-d193-ac9ef9847ea2"
      },
      "outputs": [
        {
          "output_type": "execute_result",
          "data": {
            "text/plain": "'/workspaces/Project-5-Mildew-detection-leaves-images-identification'"
          },
          "metadata": {},
          "execution_count": 5
        }
      ],
      "source": [
        "current_dir = os.getcwd()\n",
        "current_dir"
      ]
    },
    {
      "cell_type": "markdown",
      "metadata": {},
      "source": [
        "---"
      ]
    },
    {
      "cell_type": "markdown",
      "metadata": {
        "id": "-mavJ8DibrcQ"
      },
      "source": [
        "# Install Kaggle"
      ]
    },
    {
      "cell_type": "code",
      "execution_count": 6,
      "metadata": {
        "tags": []
      },
      "outputs": [
        {
          "output_type": "stream",
          "name": "stdout",
          "text": "Requirement already satisfied: kaggle in /home/codeany/.pyenv/versions/3.8.12/lib/python3.8/site-packages (1.5.15)\nRequirement already satisfied: six>=1.10 in /home/codeany/.pyenv/versions/3.8.12/lib/python3.8/site-packages (from kaggle) (1.15.0)\nRequirement already satisfied: certifi in /home/codeany/.pyenv/versions/3.8.12/lib/python3.8/site-packages (from kaggle) (2023.5.7)\nRequirement already satisfied: python-dateutil in /home/codeany/.pyenv/versions/3.8.12/lib/python3.8/site-packages (from kaggle) (2.8.2)\nRequirement already satisfied: requests in /home/codeany/.pyenv/versions/3.8.12/lib/python3.8/site-packages (from kaggle) (2.31.0)\nRequirement already satisfied: tqdm in /home/codeany/.pyenv/versions/3.8.12/lib/python3.8/site-packages (from kaggle) (4.65.0)\nRequirement already satisfied: python-slugify in /home/codeany/.pyenv/versions/3.8.12/lib/python3.8/site-packages (from kaggle) (8.0.1)\nRequirement already satisfied: urllib3 in /home/codeany/.pyenv/versions/3.8.12/lib/python3.8/site-packages (from kaggle) (1.26.16)\nRequirement already satisfied: bleach in /home/codeany/.pyenv/versions/3.8.12/lib/python3.8/site-packages (from kaggle) (6.0.0)\nRequirement already satisfied: webencodings in /home/codeany/.pyenv/versions/3.8.12/lib/python3.8/site-packages (from bleach->kaggle) (0.5.1)\nRequirement already satisfied: text-unidecode>=1.3 in /home/codeany/.pyenv/versions/3.8.12/lib/python3.8/site-packages (from python-slugify->kaggle) (1.3)\nRequirement already satisfied: charset-normalizer<4,>=2 in /home/codeany/.pyenv/versions/3.8.12/lib/python3.8/site-packages (from requests->kaggle) (3.2.0)\nRequirement already satisfied: idna<4,>=2.5 in /home/codeany/.pyenv/versions/3.8.12/lib/python3.8/site-packages (from requests->kaggle) (3.4)\nNote: you may need to restart the kernel to use updated packages.\n"
        }
      ],
      "source": [
        "# install kaggle package\n",
        "%pip install kaggle"
      ]
    },
    {
      "cell_type": "markdown",
      "metadata": {},
      "source": [
        "Run the cell below to change the kaggle configuration directory to current working directory and permission of kaggle authentication JSON"
      ]
    },
    {
      "cell_type": "code",
      "execution_count": 7,
      "metadata": {},
      "outputs": [],
      "source": [
        "os.environ['KAGGLE_CONFIG_DIR'] = os.getcwd()\n",
        "! chmod 600 kaggle.json"
      ]
    },
    {
      "cell_type": "markdown",
      "metadata": {},
      "source": [
        "* Get the dataset path from Kaggle url.  When you are viewing the dataset at Kaggle, check what is after https://www.kaggle.com/ (in some case kaggle.com/datasets). You should copy that at KaggleDatasetPath.\n",
        "\n",
        "* Set the destination folder\n",
        "* Set the Kaggle Dataset and Download it"
      ]
    },
    {
      "cell_type": "code",
      "execution_count": 8,
      "metadata": {
        "tags": []
      },
      "outputs": [
        {
          "output_type": "stream",
          "name": "stdout",
          "text": "Downloading cherry-leaves.zip to inputs/mildew_dataset\n 91%|██████████████████████████████████▌   | 50.0M/55.0M [00:02<00:00, 31.0MB/s]\n100%|██████████████████████████████████████| 55.0M/55.0M [00:02<00:00, 20.8MB/s]\n"
        }
      ],
      "source": [
        "# Set the destination folder to download Kaggle Dataset\n",
        "KaggleDatasetPath = \"codeinstitute/cherry-leaves\"\n",
        "DestinationFolder = \"inputs/mildew_dataset\"   \n",
        "! kaggle datasets download -d {KaggleDatasetPath} -p {DestinationFolder}"
      ]
    },
    {
      "cell_type": "markdown",
      "metadata": {},
      "source": [
        "**Unzip the downloaded file, and delete the zip file.**"
      ]
    },
    {
      "cell_type": "code",
      "execution_count": 9,
      "metadata": {},
      "outputs": [],
      "source": [
        "import zipfile\n",
        "with zipfile.ZipFile(DestinationFolder + '/cherry-leaves.zip', 'r') as zip_ref:\n",
        "    zip_ref.extractall(DestinationFolder)\n",
        "\n",
        "os.remove(DestinationFolder + '/cherry-leaves.zip')"
      ]
    },
    {
      "cell_type": "markdown",
      "metadata": {
        "id": "ZY3l0-AxO93d"
      },
      "source": [
        "---"
      ]
    },
    {
      "cell_type": "markdown",
      "metadata": {
        "id": "uFQo3ycuO-v6"
      },
      "source": [
        "# Data Preparation"
      ]
    },
    {
      "cell_type": "markdown",
      "metadata": {},
      "source": [
        "## Check and remove non-image files"
      ]
    },
    {
      "cell_type": "code",
      "execution_count": 10,
      "metadata": {},
      "outputs": [],
      "source": [
        "# Function to remove non-image files\n",
        "def remove_non_image_file(my_data_dir):\n",
        "    image_extension = ('.png', '.jpg', '.jpeg')\n",
        "    folders = os.listdir(my_data_dir) \n",
        "    for folder in folders:\n",
        "        files = os.listdir(my_data_dir + '/' + folder)\n",
        "        # print(files)\n",
        "        i = []\n",
        "        j = []\n",
        "        for given_file in files:\n",
        "            if not given_file.lower().endswith(image_extension):\n",
        "                file_location = my_data_dir + '/' + folder + '/' + given_file\n",
        "                os.remove(file_location) # remove non-image file\n",
        "                i.append(1)\n",
        "            else:\n",
        "                j.append(1)\n",
        "                pass\n",
        "        print(f\"Folder: {folder} - has image file\",len(j))\n",
        "        print(f\"Folder: {folder} - has non-image file\",len(i))"
      ]
    },
    {
      "cell_type": "code",
      "execution_count": 11,
      "metadata": {
        "tags": []
      },
      "outputs": [
        {
          "output_type": "stream",
          "name": "stdout",
          "text": "Folder: powdery_mildew - has image file 2104\nFolder: powdery_mildew - has non-image file 0\nFolder: healthy - has image file 2104\nFolder: healthy - has non-image file 0\n"
        }
      ],
      "source": [
        "# Remove non-image files\n",
        "remove_non_image_file(my_data_dir='inputs/mildew_dataset/cherry-leaves')"
      ]
    },
    {
      "cell_type": "markdown",
      "metadata": {},
      "source": [
        "## Split train, validation, and test sets"
      ]
    },
    {
      "cell_type": "code",
      "execution_count": 12,
      "metadata": {},
      "outputs": [],
      "source": [
        "import os\n",
        "import shutil\n",
        "import random\n",
        "import joblib\n",
        "\n",
        "my_data_dir=\"inputs/mildew_dataset/cherry-leaves\"\n",
        "\n",
        "# Function to split train, validation, and test images\n",
        "def split_train_validation_test_images(my_data_dir, train_set_ratio, validation_set_ratio, test_set_ratio):\n",
        "  \n",
        "  if train_set_ratio + validation_set_ratio + test_set_ratio != 1.0:\n",
        "    print(\"train_set_ratio + validation_set_ratio + test_set_ratio should sum 1.0\")\n",
        "    return\n",
        "\n",
        "  # gets classes labels\n",
        "  labels = os.listdir(my_data_dir) # To get only the folder name\n",
        "  if 'test' in labels:\n",
        "    pass\n",
        "  else: \n",
        "    # create train, validation, and test folders with classess labels sub-folder\n",
        "    for folder in ['train','validation','test']:\n",
        "      for label in labels:\n",
        "        os.makedirs(name=my_data_dir+ '/' + folder + '/' + label)\n",
        "\n",
        "    for label in labels:\n",
        "\n",
        "      files = os.listdir(my_data_dir + '/' + label)\n",
        "      random.shuffle(files)\n",
        "\n",
        "      train_set_files_qty = int(len(files) * train_set_ratio)\n",
        "      validation_set_files_qty = int(len(files) * validation_set_ratio)\n",
        "\n",
        "      count = 1\n",
        "      for file_name in files:\n",
        "        if count <= train_set_files_qty:\n",
        "          # move given file to train set\n",
        "          shutil.move(my_data_dir + '/' + label + '/' + file_name,\n",
        "                      my_data_dir + '/train/' + label + '/' + file_name)\n",
        "          \n",
        "\n",
        "        elif count <= (train_set_files_qty + validation_set_files_qty ):\n",
        "          # move given file to validation set\n",
        "          shutil.move(my_data_dir + '/' + label + '/' + file_name,\n",
        "                      my_data_dir + '/validation/' + label + '/' + file_name)\n",
        "\n",
        "        else:\n",
        "          # move given file to test set\n",
        "          shutil.move(my_data_dir + '/' + label + '/' + file_name,\n",
        "                  my_data_dir + '/test/' +label + '/'+ file_name)\n",
        "          \n",
        "        count += 1\n",
        "\n",
        "      os.rmdir(my_data_dir + '/' + label)"
      ]
    },
    {
      "cell_type": "code",
      "execution_count": 13,
      "metadata": {},
      "outputs": [],
      "source": [
        "# Split train, validation, and test images\n",
        "split_train_validation_test_images(my_data_dir=f\"inputs/mildew_dataset/cherry-leaves\",\n",
        "                                   train_set_ratio = 0.7,\n",
        "                                   validation_set_ratio=0.1,\n",
        "                                   test_set_ratio=0.2\n",
        "                                   )"
      ]
    },
    {
      "cell_type": "markdown",
      "metadata": {},
      "source": [
        "---"
      ]
    },
    {
      "cell_type": "markdown",
      "metadata": {},
      "source": [
        "# Conclusions and Next Steps"
      ]
    },
    {
      "cell_type": "markdown",
      "metadata": {},
      "source": [
        "## Conclusions\n",
        "* Dataset as a mildew_dataset has been successfuly added to the input folder \n",
        "* mildew_dataset has been successfully splitted into train, validation, and test test\n",
        "\n",
        "## Next Steps\n",
        "* Answer business requirement 1:\n",
        "    * The client is interested in conducting a study to visually differentiate a cherry leaf that is healthy from one that contains powdery mildew"
      ]
    },
    {
      "cell_type": "markdown",
      "metadata": {},
      "source": [
        "---"
      ]
    },
    {
      "cell_type": "markdown",
      "metadata": {
        "id": "ltNetd085qHf"
      },
      "source": [
        "# Push files to Repo\n",
        "## Push generated/new files from this Session to GitHub repository"
      ]
    },
    {
      "cell_type": "markdown",
      "metadata": {
        "id": "aKlnIozA4eQO",
        "outputId": "fd09bc1f-adb1-4511-f6ce-492a6af570c0"
      },
      "source": [
        "### .gitignore"
      ]
    },
    {
      "cell_type": "code",
      "execution_count": 14,
      "metadata": {
        "tags": []
      },
      "outputs": [
        {
          "output_type": "stream",
          "name": "stdout",
          "text": "core.Microsoft*\ncore.mongo*\ncore.python*\nenv.py\n__pycache__/\n*.py[cod]\nnode_modules/\n.github/\ncloudinary_python.txt\nkaggle.json\ninputs/mildew_dataset/cherry-leaves/train\ninputs/mildew_dataset/cherry-leaves/test"
        }
      ],
      "source": [
        "! cat .gitignore"
      ]
    },
    {
      "cell_type": "markdown",
      "metadata": {},
      "source": [
        "### Git status"
      ]
    },
    {
      "cell_type": "code",
      "execution_count": 15,
      "metadata": {
        "tags": []
      },
      "outputs": [
        {
          "output_type": "stream",
          "name": "stdout",
          "text": "On branch main\nYour branch is up to date with 'origin/main'.\n\nChanges to be committed:\n  (use \"git restore --staged <file>...\" to unstage)\n\t\u001b[32mmodified:   jupyter_notebooks/DataCollection.ipynb\u001b[m\n\t\u001b[32mmodified:   jupyter_notebooks/DataVisualization.ipynb\u001b[m\n\nChanges not staged for commit:\n  (use \"git add <file>...\" to update what will be committed)\n  (use \"git restore <file>...\" to discard changes in working directory)\n\t\u001b[31mmodified:   .gitignore\u001b[m\n\t\u001b[31mmodified:   jupyter_notebooks/DataCollection.ipynb\u001b[m\n\nUntracked files:\n  (use \"git add <file>...\" to include in what will be committed)\n\t\u001b[31minputs/\u001b[m\n\n"
        }
      ],
      "source": [
        "!git status"
      ]
    },
    {
      "cell_type": "markdown",
      "metadata": {},
      "source": [
        "### Git add"
      ]
    },
    {
      "cell_type": "code",
      "execution_count": 16,
      "metadata": {},
      "outputs": [],
      "source": [
        "!git add ."
      ]
    },
    {
      "cell_type": "markdown",
      "metadata": {},
      "source": [
        "### Git commit"
      ]
    },
    {
      "cell_type": "code",
      "execution_count": 17,
      "metadata": {
        "tags": [
          "outputPrepend"
        ]
      },
      "outputs": [
        {
          "output_type": "stream",
          "name": "stdout",
          "text": "4d2cc486-e10c-453c-a095-9b7eb48790a8___FREC_Pwd.M 0415.JPG\n create mode 100644 inputs/mildew_dataset/cherry-leaves/validation/powdery_mildew/4e716573-bcb1-4c3c-97c3-3d4062f893b4___FREC_Pwd.M 4652.JPG\n create mode 100644 inputs/mildew_dataset/cherry-leaves/validation/powdery_mildew/4f75ddb3-f360-4d18-9d1b-f3fe7ffc1798___FREC_Pwd.M 4595.JPG\n create mode 100644 inputs/mildew_dataset/cherry-leaves/validation/powdery_mildew/4fb47a09-ee8b-445f-9fb0-b74a8317a65f___FREC_Pwd.M 4577_flipLR.JPG\n create mode 100644 inputs/mildew_dataset/cherry-leaves/validation/powdery_mildew/52ecce7d-bcd4-4d36-b455-b0948eb02371___FREC_Pwd.M 4724.JPG\n create mode 100644 inputs/mildew_dataset/cherry-leaves/validation/powdery_mildew/53e65c04-8e61-4867-864d-ba917f0aa939___FREC_Pwd.M 0396_flipLR.JPG\n create mode 100644 inputs/mildew_dataset/cherry-leaves/validation/powdery_mildew/541ba2aa-9301-4773-9fac-6c29a190f287___FREC_Pwd.M 5060_flipLR.JPG\n create mode 100644 inputs/mildew_dataset/cherry-leaves/validation/powdery_mildew/5588e2ce-bc1e-4ce0-8392-6bfa40d334d5___FREC_Pwd.M 4671.JPG\n create mode 100644 inputs/mildew_dataset/cherry-leaves/validation/powdery_mildew/55aba0f4-a57d-49ed-b2d4-4e5c783dc25d___FREC_Pwd.M 0393_flipLR.JPG\n create mode 100644 inputs/mildew_dataset/cherry-leaves/validation/powdery_mildew/5627316e-8d75-4b66-a790-02a6845a33a4___FREC_Pwd.M 4482.JPG\n create mode 100644 inputs/mildew_dataset/cherry-leaves/validation/powdery_mildew/5627316e-8d75-4b66-a790-02a6845a33a4___FREC_Pwd.M 4482_flipLR.JPG\n create mode 100644 inputs/mildew_dataset/cherry-leaves/validation/powdery_mildew/56b0482b-80d1-4cd8-82c9-478b8d9e296e___FREC_Pwd.M 0594.JPG\n create mode 100644 inputs/mildew_dataset/cherry-leaves/validation/powdery_mildew/574742c2-224c-4b29-b2bf-d24de5a631a6___FREC_Pwd.M 4817_flipLR.JPG\n create mode 100644 inputs/mildew_dataset/cherry-leaves/validation/powdery_mildew/58d680f4-c586-47d0-98a6-0e89ad4f8ff2___FREC_Pwd.M 0401_flipLR.JPG\n create mode 100644 inputs/mildew_dataset/cherry-leaves/validation/powdery_mildew/5aa2ca92-de44-41cc-97c1-3a622d885337___FREC_Pwd.M 4490.JPG\n create mode 100644 inputs/mildew_dataset/cherry-leaves/validation/powdery_mildew/5b3bd2bf-b673-40e8-8ead-5755cb5203cd___FREC_Pwd.M 4640.JPG\n create mode 100644 inputs/mildew_dataset/cherry-leaves/validation/powdery_mildew/5d785df7-f03c-4a2d-be73-567831c490a8___FREC_Pwd.M 4616_flipLR.JPG\n create mode 100644 inputs/mildew_dataset/cherry-leaves/validation/powdery_mildew/5f969553-68de-42bf-a892-0d7d6a96bb28___FREC_Pwd.M 4537.JPG\n create mode 100644 inputs/mildew_dataset/cherry-leaves/validation/powdery_mildew/6269aa19-6cb1-41de-828d-e59361033b3f___FREC_Pwd.M 0565.JPG\n create mode 100644 inputs/mildew_dataset/cherry-leaves/validation/powdery_mildew/62a8cd07-b3ec-41c2-853c-d783474206a0___FREC_Pwd.M 4489.JPG\n create mode 100644 inputs/mildew_dataset/cherry-leaves/validation/powdery_mildew/631167a9-9bde-44c5-8344-461589dd9a75___FREC_Pwd.M 4862_flipLR.JPG\n create mode 100644 inputs/mildew_dataset/cherry-leaves/validation/powdery_mildew/63da749f-b051-4b5b-98ad-217a21654171___FREC_Pwd.M 4619_flipLR.JPG\n create mode 100644 inputs/mildew_dataset/cherry-leaves/validation/powdery_mildew/6521f6d7-05fd-4144-b2e3-a20f0a7e6f7d___FREC_Pwd.M 5010.JPG\n create mode 100644 inputs/mildew_dataset/cherry-leaves/validation/powdery_mildew/6549d4d7-4649-4059-8f94-e106f268119c___FREC_Pwd.M 0458.JPG\n create mode 100644 inputs/mildew_dataset/cherry-leaves/validation/powdery_mildew/6d700706-12f6-40a3-b293-699aabce7ba0___FREC_Pwd.M 0288.JPG\n create mode 100644 inputs/mildew_dataset/cherry-leaves/validation/powdery_mildew/6f76b1b9-8650-4510-bdb5-3f82191e6bc8___FREC_Pwd.M 4841_flipLR.JPG\n create mode 100644 inputs/mildew_dataset/cherry-leaves/validation/powdery_mildew/71bcd3c5-95d6-4b6f-88dc-c8dcbf49e6ed___FREC_Pwd.M 4650_flipLR.JPG\n create mode 100644 inputs/mildew_dataset/cherry-leaves/validation/powdery_mildew/71f131a8-9dbd-4330-a515-519a65d705a5___FREC_Pwd.M 0436.JPG\n create mode 100644 inputs/mildew_dataset/cherry-leaves/validation/powdery_mildew/72d335eb-b2fc-4808-ba4a-94f1178f9c54___FREC_Pwd.M 0413_flipLR.JPG\n create mode 100644 inputs/mildew_dataset/cherry-leaves/validation/powdery_mildew/75e036a9-2c97-4b9a-816c-54424c51127a___FREC_Pwd.M 5013_flipLR.JPG\n create mode 100644 inputs/mildew_dataset/cherry-leaves/validation/powdery_mildew/77e3b2c2-5e50-467f-b081-91a84f9d6436___FREC_Pwd.M 0258.JPG\n create mode 100644 inputs/mildew_dataset/cherry-leaves/validation/powdery_mildew/783d0cdc-ee4a-4e54-a0cd-4409c9c1bd47___FREC_Pwd.M 4867_flipLR.JPG\n create mode 100644 inputs/mildew_dataset/cherry-leaves/validation/powdery_mildew/783e28d7-3b7f-4b9c-81a0-99218f2d3f84___FREC_Pwd.M 4833_flipLR.JPG\n create mode 100644 inputs/mildew_dataset/cherry-leaves/validation/powdery_mildew/7891f5ee-6f1f-4957-a91c-4ad97b4eb725___FREC_Pwd.M 4720_flipLR.JPG\n create mode 100644 inputs/mildew_dataset/cherry-leaves/validation/powdery_mildew/7aa06c3f-08e1-4de1-9bfb-3f6bdd4c1abd___FREC_Pwd.M 5034_flipLR.JPG\n create mode 100644 inputs/mildew_dataset/cherry-leaves/validation/powdery_mildew/7aae9182-41b4-4675-89f9-84daac6ec058___FREC_Pwd.M 4627.JPG\n create mode 100644 inputs/mildew_dataset/cherry-leaves/validation/powdery_mildew/7aae9182-41b4-4675-89f9-84daac6ec058___FREC_Pwd.M 4627_flipLR.JPG\n create mode 100644 inputs/mildew_dataset/cherry-leaves/validation/powdery_mildew/7c8e53d5-bb27-4fda-b7a0-1d1713d2bb3a___FREC_Pwd.M 4764.JPG\n create mode 100644 inputs/mildew_dataset/cherry-leaves/validation/powdery_mildew/7ce9d6bf-c6c3-4be4-a5f1-b6f133691f4a___FREC_Pwd.M 4572_flipLR.JPG\n create mode 100644 inputs/mildew_dataset/cherry-leaves/validation/powdery_mildew/7fe8279e-ac07-4b37-823d-35c2d81e7d3c___FREC_Pwd.M 4478_flipLR.JPG\n create mode 100644 inputs/mildew_dataset/cherry-leaves/validation/powdery_mildew/81cd32df-f7ac-4ffa-bdc2-0a64b9c13792___FREC_Pwd.M 4505_flipLR.JPG\n create mode 100644 inputs/mildew_dataset/cherry-leaves/validation/powdery_mildew/84476972-818a-486a-bb2f-a685bc9dac24___FREC_Pwd.M 0407.JPG\n create mode 100644 inputs/mildew_dataset/cherry-leaves/validation/powdery_mildew/84c6b4a2-fbab-4315-bd1a-c154c2435ee5___FREC_Pwd.M 4474_flipLR.JPG\n create mode 100644 inputs/mildew_dataset/cherry-leaves/validation/powdery_mildew/84ff1c46-5c01-4136-bef5-59cd2d0ed812___FREC_Pwd.M 0572_flipLR.JPG\n create mode 100644 inputs/mildew_dataset/cherry-leaves/validation/powdery_mildew/854a1985-0856-41a9-9f9a-2e1a5822e07c___FREC_Pwd.M 5079.JPG\n create mode 100644 inputs/mildew_dataset/cherry-leaves/validation/powdery_mildew/87e0db60-4830-436a-ab50-5e5bfa10028f___FREC_Pwd.M 5080_flipLR.JPG\n create mode 100644 inputs/mildew_dataset/cherry-leaves/validation/powdery_mildew/8ad6e23a-7ad5-47a7-a2e3-55655ef64ccd___FREC_Pwd.M 4461.JPG\n create mode 100644 inputs/mildew_dataset/cherry-leaves/validation/powdery_mildew/8b9d11fd-5f48-4562-9256-e047b1be6966___FREC_Pwd.M 4463_flipLR.JPG\n create mode 100644 inputs/mildew_dataset/cherry-leaves/validation/powdery_mildew/8bdd0a9b-df18-4587-a4ac-09a7cf651d54___FREC_Pwd.M 0377_flipLR.JPG\n create mode 100644 inputs/mildew_dataset/cherry-leaves/validation/powdery_mildew/8e48b58c-cc17-4fb1-97bb-6c0d056ab4dc___FREC_Pwd.M 5031.JPG\n create mode 100644 inputs/mildew_dataset/cherry-leaves/validation/powdery_mildew/8ea23363-e8ad-4e80-a02e-1eb9b80e9a76___FREC_Pwd.M 5155_flipLR.JPG\n create mode 100644 inputs/mildew_dataset/cherry-leaves/validation/powdery_mildew/90b2da87-c7d3-4369-8547-f4246836806f___FREC_Pwd.M 0575.JPG\n create mode 100644 inputs/mildew_dataset/cherry-leaves/validation/powdery_mildew/9108bab4-28f5-49d7-96f3-3b7afc0a38f8___FREC_Pwd.M 4727_flipLR.JPG\n create mode 100644 inputs/mildew_dataset/cherry-leaves/validation/powdery_mildew/935d5fc7-11d0-4739-98a0-2aa0224ee62d___FREC_Pwd.M 4955_flipLR.JPG\n create mode 100644 inputs/mildew_dataset/cherry-leaves/validation/powdery_mildew/94427a36-9a76-477b-a53e-1b735e3ac9cb___FREC_Pwd.M 4588_flipLR.JPG\n create mode 100644 inputs/mildew_dataset/cherry-leaves/validation/powdery_mildew/9606fef7-31e2-439d-93e1-f2d860844cad___FREC_Pwd.M 4613.JPG\n create mode 100644 inputs/mildew_dataset/cherry-leaves/validation/powdery_mildew/971178c1-4670-43ca-b01c-9461663f0a60___FREC_Pwd.M 0262.JPG\n create mode 100644 inputs/mildew_dataset/cherry-leaves/validation/powdery_mildew/990fbd27-217d-492a-8a8d-ead540b193e5___FREC_Pwd.M 5004_flipLR.JPG\n create mode 100644 inputs/mildew_dataset/cherry-leaves/validation/powdery_mildew/994248c0-09b3-45d7-abee-d7bc761672aa___FREC_Pwd.M 0508.JPG\n create mode 100644 inputs/mildew_dataset/cherry-leaves/validation/powdery_mildew/9a969b7c-484b-45c8-9d25-f240903511a4___FREC_Pwd.M 4786.JPG\n create mode 100644 inputs/mildew_dataset/cherry-leaves/validation/powdery_mildew/9c85bae1-cccc-458b-864e-7b3692b665a5___FREC_Pwd.M 0291.JPG\n create mode 100644 inputs/mildew_dataset/cherry-leaves/validation/powdery_mildew/9d41e7d1-9410-460f-b2e2-2141c0c4e42b___FREC_Pwd.M 0302_flipLR.JPG\n create mode 100644 inputs/mildew_dataset/cherry-leaves/validation/powdery_mildew/9e2c02c8-8f21-4ddc-98e3-a653a4660db5___FREC_Pwd.M 5076_flipLR.JPG\n create mode 100644 inputs/mildew_dataset/cherry-leaves/validation/powdery_mildew/9e549db4-f6b2-4f65-a2d9-bcddb6f14f0d___FREC_Pwd.M 4718_flipLR.JPG\n create mode 100644 inputs/mildew_dataset/cherry-leaves/validation/powdery_mildew/a0797810-e1df-4171-80f6-25f02fea33d1___FREC_Pwd.M 4796.JPG\n create mode 100644 inputs/mildew_dataset/cherry-leaves/validation/powdery_mildew/a21fb672-e50e-40eb-9141-17a084f6e5ef___FREC_Pwd.M 4475_flipLR.JPG\n create mode 100644 inputs/mildew_dataset/cherry-leaves/validation/powdery_mildew/a6421f2e-fa46-45a6-9f1b-64b60cde096a___FREC_Pwd.M 4743_flipLR.JPG\n create mode 100644 inputs/mildew_dataset/cherry-leaves/validation/powdery_mildew/a8b20f6d-d2d2-4a5c-aa4e-90b2ed20da0c___FREC_Pwd.M 0540_flipLR.JPG\n create mode 100644 inputs/mildew_dataset/cherry-leaves/validation/powdery_mildew/ab269e53-f834-4f28-a175-c24de184f407___FREC_Pwd.M 0511.JPG\n create mode 100644 inputs/mildew_dataset/cherry-leaves/validation/powdery_mildew/ab366455-8a96-4984-837a-cde38c0833c4___FREC_Pwd.M 4754_flipLR.JPG\n create mode 100644 inputs/mildew_dataset/cherry-leaves/validation/powdery_mildew/ae1f1589-016e-4619-99ac-00f214199bfc___FREC_Pwd.M 5150.JPG\n create mode 100644 inputs/mildew_dataset/cherry-leaves/validation/powdery_mildew/aec1be7d-914f-4de8-a6ee-64e97dc28071___FREC_Pwd.M 4891.JPG\n create mode 100644 inputs/mildew_dataset/cherry-leaves/validation/powdery_mildew/b60cc28f-7b33-4b48-a8d6-504a11773e22___FREC_Pwd.M 0548_flipLR.JPG\n create mode 100644 inputs/mildew_dataset/cherry-leaves/validation/powdery_mildew/b67c84bb-04cb-41f3-bb91-0f7f32fc5f1e___FREC_Pwd.M 5035.JPG\n create mode 100644 inputs/mildew_dataset/cherry-leaves/validation/powdery_mildew/b748047a-d6ed-49b4-8fa3-16fea0a76115___FREC_Pwd.M 0395.JPG\n create mode 100644 inputs/mildew_dataset/cherry-leaves/validation/powdery_mildew/b8ff7b14-e3b8-4bdc-821e-39fa9736de9c___FREC_Pwd.M 0261.JPG\n create mode 100644 inputs/mildew_dataset/cherry-leaves/validation/powdery_mildew/b8ff7b14-e3b8-4bdc-821e-39fa9736de9c___FREC_Pwd.M 0261_flipLR.JPG\n create mode 100644 inputs/mildew_dataset/cherry-leaves/validation/powdery_mildew/b97fc191-9b3b-4c4c-b857-eca7767c033a___FREC_Pwd.M 4816_flipLR.JPG\n create mode 100644 inputs/mildew_dataset/cherry-leaves/validation/powdery_mildew/bc3b4287-ce7a-4ca1-bfa8-4812832fa00f___FREC_Pwd.M 0412.JPG\n create mode 100644 inputs/mildew_dataset/cherry-leaves/validation/powdery_mildew/bd12f0aa-a242-420f-9811-dd75b1b5d6c0___FREC_Pwd.M 0456.JPG\n create mode 100644 inputs/mildew_dataset/cherry-leaves/validation/powdery_mildew/c076e4d9-400a-48bc-81bd-7d776fe20202___FREC_Pwd.M 5043.JPG\n create mode 100644 inputs/mildew_dataset/cherry-leaves/validation/powdery_mildew/c152243f-9bca-41c7-8729-32070a297d54___FREC_Pwd.M 0248.JPG\n create mode 100644 inputs/mildew_dataset/cherry-leaves/validation/powdery_mildew/c28e81c2-a058-4f06-935c-80ba96dd7d4c___FREC_Pwd.M 0534.JPG\n create mode 100644 inputs/mildew_dataset/cherry-leaves/validation/powdery_mildew/c327e44c-a0df-4811-89da-af4a761aeefb___FREC_Pwd.M 0380_flipLR.JPG\n create mode 100644 inputs/mildew_dataset/cherry-leaves/validation/powdery_mildew/c526079d-2480-4cc0-aa26-ca2a9d612cc3___FREC_Pwd.M 4586_flipLR.JPG\n create mode 100644 inputs/mildew_dataset/cherry-leaves/validation/powdery_mildew/c7805b09-0ef0-4812-b3ea-d56280b1a4b3___FREC_Pwd.M 4898.JPG\n create mode 100644 inputs/mildew_dataset/cherry-leaves/validation/powdery_mildew/c7a8f6b2-2721-4c65-81ea-fc87fc8f3a27___FREC_Pwd.M 0445.JPG\n create mode 100644 inputs/mildew_dataset/cherry-leaves/validation/powdery_mildew/c820f802-f07d-4a7e-b9fd-183dacec6f0f___FREC_Pwd.M 0505_flipLR.JPG\n create mode 100644 inputs/mildew_dataset/cherry-leaves/validation/powdery_mildew/c86a51cc-d1a2-4fb2-b6b5-2866331631e9___FREC_Pwd.M 5089.JPG\n create mode 100644 inputs/mildew_dataset/cherry-leaves/validation/powdery_mildew/c984c421-82d1-443e-9a92-ee39009ce2b2___FREC_Pwd.M 4681_flipLR.JPG\n create mode 100644 inputs/mildew_dataset/cherry-leaves/validation/powdery_mildew/cb149e1b-f02f-4948-9058-ab06a9b7ab72___FREC_Pwd.M 4899_flipLR.JPG\n create mode 100644 inputs/mildew_dataset/cherry-leaves/validation/powdery_mildew/ccd9f930-bf7f-4235-8aec-d191089efbb2___FREC_Pwd.M 0299.JPG\n create mode 100644 inputs/mildew_dataset/cherry-leaves/validation/powdery_mildew/cd4b605b-2ca6-4a6c-8c32-9115ec106c1d___FREC_Pwd.M 5017_flipLR.JPG\n create mode 100644 inputs/mildew_dataset/cherry-leaves/validation/powdery_mildew/cd6f8dee-5c38-4e3c-946d-2d79a517d76e___FREC_Pwd.M 0284.JPG\n create mode 100644 inputs/mildew_dataset/cherry-leaves/validation/powdery_mildew/cd8572da-75c4-4388-a20b-25c136aee122___FREC_Pwd.M 0476_flipLR.JPG\n create mode 100644 inputs/mildew_dataset/cherry-leaves/validation/powdery_mildew/ce5efd4e-f2cb-47ac-9544-69291614286d___FREC_Pwd.M 5073.JPG\n create mode 100644 inputs/mildew_dataset/cherry-leaves/validation/powdery_mildew/ce5efd4e-f2cb-47ac-9544-69291614286d___FREC_Pwd.M 5073_flipLR.JPG\n create mode 100644 inputs/mildew_dataset/cherry-leaves/validation/powdery_mildew/cf98e1fd-1f1b-4f21-b485-d37a7b594965___FREC_Pwd.M 0503_flipLR.JPG\n create mode 100644 inputs/mildew_dataset/cherry-leaves/validation/powdery_mildew/cf99f7fe-fa40-4524-a77b-deb6df6f66d5___FREC_Pwd.M 4813.JPG\n create mode 100644 inputs/mildew_dataset/cherry-leaves/validation/powdery_mildew/cf99f7fe-fa40-4524-a77b-deb6df6f66d5___FREC_Pwd.M 4813_flipLR.JPG\n create mode 100644 inputs/mildew_dataset/cherry-leaves/validation/powdery_mildew/d03d9ea1-7be8-4501-bb94-271f2a593865___FREC_Pwd.M 5051.JPG\n create mode 100644 inputs/mildew_dataset/cherry-leaves/validation/powdery_mildew/d0632da1-03b6-43e5-9a31-0f24fe456428___FREC_Pwd.M 0536.JPG\n create mode 100644 inputs/mildew_dataset/cherry-leaves/validation/powdery_mildew/d184dd0f-62f4-4354-8b8a-d876f404cf8c___FREC_Pwd.M 0520.JPG\n create mode 100644 inputs/mildew_dataset/cherry-leaves/validation/powdery_mildew/d404ee44-8dad-4806-881d-bd607e54f9b2___FREC_Pwd.M 0389_flipLR.JPG\n create mode 100644 inputs/mildew_dataset/cherry-leaves/validation/powdery_mildew/d4eeefad-2e82-4a46-ab6f-a23244cc670e___FREC_Pwd.M 5042.JPG\n create mode 100644 inputs/mildew_dataset/cherry-leaves/validation/powdery_mildew/d53e4b45-41d9-4cea-9f79-80e99bac6a95___FREC_Pwd.M 4948_flipLR.JPG\n create mode 100644 inputs/mildew_dataset/cherry-leaves/validation/powdery_mildew/d5510570-6f71-4af0-9fda-07eee0e55442___FREC_Pwd.M 0333_flipLR.JPG\n create mode 100644 inputs/mildew_dataset/cherry-leaves/validation/powdery_mildew/d93c6cb4-f143-46b1-96db-bb12e8bd6c0b___FREC_Pwd.M 4964_flipLR.JPG\n create mode 100644 inputs/mildew_dataset/cherry-leaves/validation/powdery_mildew/d991c44b-2248-4714-bf55-f881127d84f0___FREC_Pwd.M 4662.JPG\n create mode 100644 inputs/mildew_dataset/cherry-leaves/validation/powdery_mildew/da099922-273a-456d-a8c0-84226a746907___FREC_Pwd.M 4881.JPG\n create mode 100644 inputs/mildew_dataset/cherry-leaves/validation/powdery_mildew/db73697a-1432-44af-85a7-f0f770d09616___FREC_Pwd.M 4922.JPG\n create mode 100644 inputs/mildew_dataset/cherry-leaves/validation/powdery_mildew/dc8c4626-e9fb-4dc8-80f4-6af50321dec6___FREC_Pwd.M 4708_flipLR.JPG\n create mode 100644 inputs/mildew_dataset/cherry-leaves/validation/powdery_mildew/dd9b1943-fdfa-468a-a09c-c80fbdde7c5d___FREC_Pwd.M 0247_flipLR.JPG\n create mode 100644 inputs/mildew_dataset/cherry-leaves/validation/powdery_mildew/ddfca5ac-a909-43ca-b8c7-66aeb996c8ad___FREC_Pwd.M 5036.JPG\n create mode 100644 inputs/mildew_dataset/cherry-leaves/validation/powdery_mildew/df8ae90b-7bb7-4e17-bc88-20c58ea9e82b___FREC_Pwd.M 4696.JPG\n create mode 100644 inputs/mildew_dataset/cherry-leaves/validation/powdery_mildew/e00332a5-dd41-4381-9ed4-1f3d8b9a9ed9___FREC_Pwd.M 4555_flipLR.JPG\n create mode 100644 inputs/mildew_dataset/cherry-leaves/validation/powdery_mildew/e0418659-4eae-4751-9e5f-6316d2bfaf46___FREC_Pwd.M 0409.JPG\n create mode 100644 inputs/mildew_dataset/cherry-leaves/validation/powdery_mildew/e5ca68e7-17cb-4aee-bf65-7abba2629a29___FREC_Pwd.M 0325.JPG\n create mode 100644 inputs/mildew_dataset/cherry-leaves/validation/powdery_mildew/e69ac631-b4b7-40a0-ba3f-beba04b4de97___FREC_Pwd.M 4562.JPG\n create mode 100644 inputs/mildew_dataset/cherry-leaves/validation/powdery_mildew/e816bd35-a4f4-41f9-b761-8803ff323652___FREC_Pwd.M 0559.JPG\n create mode 100644 inputs/mildew_dataset/cherry-leaves/validation/powdery_mildew/e85d24e4-9a7b-42cb-95fe-d76ca9d86180___FREC_Pwd.M 4930_flipLR.JPG\n create mode 100644 inputs/mildew_dataset/cherry-leaves/validation/powdery_mildew/e93cfbbd-e8ca-46a9-b709-00d28fce4c51___FREC_Pwd.M 0468.JPG\n create mode 100644 inputs/mildew_dataset/cherry-leaves/validation/powdery_mildew/e93cfbbd-e8ca-46a9-b709-00d28fce4c51___FREC_Pwd.M 0468_flipLR.JPG\n create mode 100644 inputs/mildew_dataset/cherry-leaves/validation/powdery_mildew/edf764dc-8951-4a95-80f7-4827693db0db___FREC_Pwd.M 0593.JPG\n create mode 100644 inputs/mildew_dataset/cherry-leaves/validation/powdery_mildew/f2195961-ff27-4628-a344-72aae1d750b4___FREC_Pwd.M 4476_flipLR.JPG\n create mode 100644 inputs/mildew_dataset/cherry-leaves/validation/powdery_mildew/f22b9bbe-1c84-4e0b-bc23-f9da36765801___FREC_Pwd.M 0472.JPG\n create mode 100644 inputs/mildew_dataset/cherry-leaves/validation/powdery_mildew/f28e7be1-c3ac-4c7b-bc30-94b8985a9614___FREC_Pwd.M 4999_flipLR.JPG\n create mode 100644 inputs/mildew_dataset/cherry-leaves/validation/powdery_mildew/f318d0ce-aa1d-4287-83b7-0b56c8906ef5___FREC_Pwd.M 4683_flipLR.JPG\n create mode 100644 inputs/mildew_dataset/cherry-leaves/validation/powdery_mildew/f34e2369-095d-45a6-8407-0272da9aeaef___FREC_Pwd.M 4920.JPG\n create mode 100644 inputs/mildew_dataset/cherry-leaves/validation/powdery_mildew/f4a3ab38-22b7-4d82-a6a7-b58fccdb13b6___FREC_Pwd.M 0522_flipLR.JPG\n create mode 100644 inputs/mildew_dataset/cherry-leaves/validation/powdery_mildew/f4e8883a-b92b-449c-9f9f-447bc9b288c6___FREC_Pwd.M 4893_flipLR.JPG\n create mode 100644 inputs/mildew_dataset/cherry-leaves/validation/powdery_mildew/f5984d40-8f9d-4947-999e-7e146441e9c9___FREC_Pwd.M 4703.JPG\n create mode 100644 inputs/mildew_dataset/cherry-leaves/validation/powdery_mildew/f5e5ebb5-07c1-4774-bcca-fd8c575a7bd0___FREC_Pwd.M 0385.JPG\n create mode 100644 inputs/mildew_dataset/cherry-leaves/validation/powdery_mildew/f6d3fe59-d384-444b-a906-b7aa8e008c31___FREC_Pwd.M 4852_flipLR.JPG\n create mode 100644 inputs/mildew_dataset/cherry-leaves/validation/powdery_mildew/f7d72dfe-0b0c-44a2-96b3-fd588eb10b12___FREC_Pwd.M 0500.JPG\n create mode 100644 inputs/mildew_dataset/cherry-leaves/validation/powdery_mildew/f7f22a1d-718d-4b6d-ac7a-e0121d97d55e___FREC_Pwd.M 4533.JPG\n create mode 100644 inputs/mildew_dataset/cherry-leaves/validation/powdery_mildew/fd437fb9-f319-4f40-9142-b8800bccd21e___FREC_Pwd.M 5142_flipLR.JPG\n create mode 100644 inputs/mildew_dataset/cherry-leaves/validation/powdery_mildew/fd7fbe5c-d234-4c16-b587-faed3407e2dd___FREC_Pwd.M 0474.JPG\n create mode 100644 inputs/mildew_dataset/cherry-leaves/validation/powdery_mildew/fe410980-15d4-472d-b8e6-4fece7d302ee___FREC_Pwd.M 4949_flipLR.JPG\n"
        }
      ],
      "source": [
        "!git commit -am \"Update data collection\""
      ]
    },
    {
      "cell_type": "markdown",
      "metadata": {},
      "source": [
        "### Git push"
      ]
    },
    {
      "cell_type": "code",
      "execution_count": 18,
      "metadata": {
        "tags": []
      },
      "outputs": [
        {
          "output_type": "stream",
          "name": "stdout",
          "text": "Enumerating objects: 437, done.\nCounting objects: 100% (437/437), done.\nDelta compression using up to 4 threads\nCompressing objects: 100% (429/429), done.\nWriting objects: 100% (432/432), 12.52 MiB | 8.75 MiB/s, done.\nTotal 432 (delta 3), reused 0 (delta 0), pack-reused 0\nremote: Resolving deltas: 100% (3/3), completed with 3 local objects.\u001b[K\nTo https://github.com/HumaIlyas/Project-5-Mildew-detection-leaves-images-identification\n   b34fe32..95db692  main -> main\n"
        }
      ],
      "source": [
        "!git push"
      ]
    }
  ],
  "metadata": {
    "accelerator": "GPU",
    "colab": {
      "name": "Data Practitioner Jupyter Notebook.ipynb",
      "provenance": [],
      "toc_visible": true
    },
    "kernelspec": {
      "display_name": "Python 3.8.12 64-bit ('3.8.12': pyenv)",
      "language": "python",
      "name": "python381264bit3812pyenvad74e9d3c48047428a4f393fbd43dc83"
    },
    "language_info": {
      "codemirror_mode": {
        "name": "ipython",
        "version": 3
      },
      "file_extension": ".py",
      "mimetype": "text/x-python",
      "name": "python",
      "nbconvert_exporter": "python",
      "pygments_lexer": "ipython3",
      "version": "3.8.12-final"
    },
    "orig_nbformat": 2
  },
  "nbformat": 4,
  "nbformat_minor": 2
}